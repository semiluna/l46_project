{
 "cells": [
  {
   "cell_type": "code",
   "execution_count": 75,
   "metadata": {},
   "outputs": [],
   "source": [
    "import matplotlib\n",
    "import matplotlib.pyplot as plt\n",
    "import numpy as np\n",
    "import pickle\n",
    "\n",
    "matplotlib.use(\"pgf\")\n",
    "matplotlib.rcParams.update({\n",
    "    # \"pgf.texsystem\": \"pdflatex\",\n",
    "    'font.family': 'serif',\n",
    "    'text.usetex': True,\n",
    "    'pgf.rcfonts': False,\n",
    "})"
   ]
  },
  {
   "cell_type": "code",
   "execution_count": 120,
   "metadata": {},
   "outputs": [
    {
     "name": "stderr",
     "output_type": "stream",
     "text": [
      "UsageError: Line magic function `%pip3` not found.\n"
     ]
    }
   ],
   "source": [
    "% install python3-tk"
   ]
  },
  {
   "cell_type": "code",
   "execution_count": 39,
   "metadata": {},
   "outputs": [],
   "source": [
    "PATH = '/Users/antoniaboca/vs_code/l46_project/kd-models/citeseer/final_results.pickle'\n",
    "\n",
    "datasets = ['citeseer', 'cora', 'pubmed']\n",
    "\n",
    "stats_arr = {}\n",
    "\n",
    "for dataset in datasets:\n",
    "    kd_teacher = np.zeros((21, 3), dtype=np.float32)\n",
    "    kd_f1 = np.zeros((21,3), dtype=np.float32)\n",
    "    kd_loss = np.zeros((21, 3), dtype=np.float32)\n",
    "\n",
    "    mi_teacher = np.zeros((21, 3), dtype=np.float32)\n",
    "    mi_f1 = np.zeros((21, 3), dtype=np.float32)\n",
    "    mi_loss = np.zeros((21, 3), dtype=np.float32)\n",
    "\n",
    "    full_f1 = np.zeros(3, dtype=np.float32)\n",
    "    full_loss = np.zeros(3, dtype=np.float32)\n",
    "\n",
    "    for i in range(1, 4):\n",
    "        if i == 1:\n",
    "            file_path = f'/Users/antoniaboca/vs_code/l46_project/kd-models/{dataset}/final_results.pickle'\n",
    "        else:\n",
    "            file_path = f'/Users/antoniaboca/vs_code/l46_project/kd-models/{dataset}-{i}/final_results.pickle'\n",
    "        with open(file_path, 'rb') as handle:\n",
    "            stats = pickle.load(handle)\n",
    "\n",
    "        if i != 1:\n",
    "            full_f1[i - 1] = stats['full'][0]['f1 score on test set']\n",
    "            full_loss[i-1] = stats['full'][0]['loss on training set']\n",
    "\n",
    "        for j, stat in enumerate(stats['kd']):\n",
    "            kd_teacher[j][i-1] = stat['teacher accuracy']\n",
    "            kd_f1[j][i-1] = stat['f1 score on test set']\n",
    "            kd_loss[j][i-1] = stat['loss on training set']\n",
    "        \n",
    "        for j, stat in enumerate(stats['mi']):\n",
    "            mi_teacher[j][i-1] = stat['teacher accuracy']\n",
    "            mi_f1[j][i-1] = stat['f1 score on test set']\n",
    "            mi_loss[j][i-1] = stat['loss on training set']\n",
    "    \n",
    "    stats_arr[dataset] = {\n",
    "        'full': (full_f1, full_loss),\n",
    "        'kd': (kd_teacher, kd_f1, kd_loss),\n",
    "        'mi': (mi_teacher, mi_f1, mi_loss)\n",
    "    }\n"
   ]
  },
  {
   "cell_type": "code",
   "execution_count": 40,
   "metadata": {},
   "outputs": [],
   "source": [
    "stats_arr['pubmed']['full'][0][0] = 0.752\n",
    "stats_arr['pubmed']['full'][1][0] =  0.0003575420705601573\n",
    "\n",
    "stats_arr['citeseer']['full'][0][0] = 0.671\n",
    "stats_arr['citeseer']['full'][1][0] =  1.791745662689209\n",
    "\n",
    "stats_arr['cora']['full'][0][0] = 0.7579999999999999\n",
    "stats_arr['cora']['full'][1][0] =  0.00010437193850520998\n"
   ]
  },
  {
   "cell_type": "code",
   "execution_count": 41,
   "metadata": {},
   "outputs": [
    {
     "data": {
      "text/plain": [
       "(array([0.752, 0.742, 0.758], dtype=float32),\n",
       " array([3.5754207e-04, 1.9446012e-05, 8.4952562e-06], dtype=float32))"
      ]
     },
     "execution_count": 41,
     "metadata": {},
     "output_type": "execute_result"
    }
   ],
   "source": [
    "stats_arr['pubmed']['full']"
   ]
  },
  {
   "cell_type": "code",
   "execution_count": 53,
   "metadata": {},
   "outputs": [],
   "source": [
    "# Iteration 0  Cora | Graph sparsity 100%, model sparsity: 100%, test accuracy: 0.8100 at epoch 11\n",
    "# Iteration 0 Citeseer | Graph sparsity 100%, model sparsity: 100%, test accuracy: 0.7090 at epoch 0\n",
    "# Iteration 0 Pubmed | Graph sparsity 100%, model sparsity: 100%, test accuracy: 0.7620 at epoch 21\n",
    "\n",
    "teacher_baseline = {\n",
    "    'cora': 0.8100,\n",
    "    'citeseer': 0.7090,\n",
    "    'pubmed': 0.7620\n",
    "}"
   ]
  },
  {
   "cell_type": "code",
   "execution_count": 14,
   "metadata": {},
   "outputs": [],
   "source": [
    "graph_spar = np.ones(21)\n",
    "model_spar = np.ones(21)\n",
    "for i in range(1, 21):\n",
    "    graph_spar[i] = graph_spar[i-1] - graph_spar[i-1] * 0.05 \n",
    "    model_spar[i] = model_spar[i-1] - model_spar[i-1] * 0.2\n",
    "\n",
    "graph_spar = (1 - graph_spar) * 100\n",
    "model_spar = (1 - model_spar) * 100"
   ]
  },
  {
   "cell_type": "code",
   "execution_count": 15,
   "metadata": {},
   "outputs": [
    {
     "data": {
      "text/plain": [
       "array([ 0.        , 20.        , 36.        , 48.8       , 59.04      ,\n",
       "       67.232     , 73.7856    , 79.02848   , 83.222784  , 86.5782272 ,\n",
       "       89.26258176, 91.41006541, 93.12805233, 94.50244186, 95.60195349,\n",
       "       96.48156279, 97.18525023, 97.74820019, 98.19856015, 98.55884812,\n",
       "       98.8470785 ])"
      ]
     },
     "execution_count": 15,
     "metadata": {},
     "output_type": "execute_result"
    }
   ],
   "source": [
    "model_spar"
   ]
  },
  {
   "cell_type": "code",
   "execution_count": 76,
   "metadata": {},
   "outputs": [
    {
     "name": "stderr",
     "output_type": "stream",
     "text": [
      "/var/folders/1k/wlzqgvv50vd1tkj3jxbkk0m80000gn/T/ipykernel_22466/1999394296.py:51: UserWarning: Matplotlib is currently using pgf, which is a non-GUI backend, so cannot show the figure.\n",
      "  plt.show()\n"
     ]
    }
   ],
   "source": [
    "from matplotlib.ticker import FormatStrFormatter, PercentFormatter\n",
    "\n",
    "matplotlib.rcParams.update({'font.size': 22})\n",
    "fig, axs = plt.subplots(3, constrained_layout=True, sharex='all', figsize=(12, 10))\n",
    "\n",
    "lims = {\n",
    "    'cora': [75, 83],\n",
    "    'citeseer': [65, 73],\n",
    "    'pubmed': [75, 82],\n",
    "}\n",
    "for i, dataset in enumerate(datasets):\n",
    "    ax = axs[i]\n",
    "    cora = stats_arr[dataset]\n",
    "\n",
    "    kd_teacher, kd_f1, kd_loss = cora['kd']\n",
    "    teacher_mean = np.mean(kd_teacher, axis=-1)\n",
    "    teacher_std = np.std(kd_teacher, axis=-1)\n",
    "\n",
    "    # fig, ax = plt.subplots(constrained_layout=True)\n",
    "    ax.grid()\n",
    "    ax.axhline(y = teacher_baseline[dataset] * 100, color = 'black', linestyle = '--')\n",
    "    ax.plot(graph_spar, teacher_mean * 100, color='blue')\n",
    "    ax.set_yticks(list(range(70, 85, 2)))\n",
    "    ax.set_ylabel(f'{dataset.capitalize()} (\\%)')\n",
    "    ax.set_ylim(lims[dataset])\n",
    "    ax.legend(['Baseline', 'Iterative pruning'])\n",
    "\n",
    "ax = axs[2]\n",
    "ax.set_xticks(graph_spar)\n",
    "ax.set_xlabel('Graph sparsity (\\%)')\n",
    "\n",
    "ax2 = ax.twiny()\n",
    "\n",
    "ax.tick_params(axis='x', rotation=45)\n",
    "ax2.tick_params(axis='x', rotation=45)\n",
    "ax2.plot(graph_spar, teacher_mean, color='blue')\n",
    "ax2.set_xticks(graph_spar)\n",
    "ax2.set_xticklabels(\"%.2f\" % spar for spar in model_spar)\n",
    "ax2.set_xlabel('Model sparsity (\\%)')\n",
    "ax.xaxis.set_major_formatter(FormatStrFormatter('%.2f'))\n",
    "# ax.tick_params(axis='y', which='major', labelsize=16)\n",
    "\n",
    "ax2.xaxis.set_ticks_position('bottom') # set the position of the second x-axis to bottom\n",
    "ax2.xaxis.set_label_position('bottom') # set the position of the second x-axis to bottom\n",
    "ax2.spines['bottom'].set_position(('outward', 80))\n",
    "\n",
    "# ax.set_ylim([75, 82])\n",
    "\n",
    "# ax.set_title('Cora', fontdict={'fontsize':22})\n",
    "\n",
    "plt.show()\n",
    "plt.savefig('all_teachers')"
   ]
  },
  {
   "cell_type": "code",
   "execution_count": 26,
   "metadata": {},
   "outputs": [
    {
     "name": "stdout",
     "output_type": "stream",
     "text": [
      "[0.00309122 0.00531246 0.00286745 0.00659965 0.00618242 0.00169968\n",
      " 0.00188562 0.00244948 0.00081651 0.00355901 0.00216025 0.001633\n",
      " 0.00989952 0.00828653 0.00509903 0.00758654 0.00555778 0.00374166\n",
      " 0.00637704 0.00478422 0.00188562]\n"
     ]
    }
   ],
   "source": [
    "kd_teacher, kd_f1, kd_loss = stats_arr['pubmed']['kd']\n",
    "kd_f1_mean = np.mean(kd_f1, axis=-1)\n",
    "kd_f1_std = np.std(kd_f1, axis=-1)\n",
    "\n",
    "print(kd_f1_std)"
   ]
  },
  {
   "cell_type": "code",
   "execution_count": 77,
   "metadata": {},
   "outputs": [
    {
     "name": "stderr",
     "output_type": "stream",
     "text": [
      "/var/folders/1k/wlzqgvv50vd1tkj3jxbkk0m80000gn/T/ipykernel_22466/2284886104.py:62: UserWarning: Matplotlib is currently using pgf, which is a non-GUI backend, so cannot show the figure.\n",
      "  plt.show()\n"
     ]
    }
   ],
   "source": [
    "from matplotlib.ticker import FormatStrFormatter, PercentFormatter\n",
    "\n",
    "matplotlib.rcParams.update({'font.size': 20})\n",
    "fig, axs = plt.subplots(3, constrained_layout=True, sharex='all', figsize=(12, 15))\n",
    "\n",
    "lims = {\n",
    "    'cora': [72, 82],\n",
    "    'citeseer': [62, 72],\n",
    "    'pubmed': [72, 82],\n",
    "}\n",
    "for i, dataset in enumerate(datasets):\n",
    "    ax = axs[i]\n",
    "    cora = stats_arr[dataset]\n",
    "\n",
    "    kd_teacher, kd_f1, kd_loss = cora['kd']\n",
    "    kd_f1_mean = np.mean(kd_f1, axis=-1)\n",
    "    kd_f1_std = np.std(kd_f1 * 100, axis=-1)\n",
    "\n",
    "    mi_teacher, mi_f1, mi_loss = cora['mi']\n",
    "    mi_f1_mean = np.mean(mi_f1, axis=-1)\n",
    "    mi_f1_std = np.std(mi_f1 * 100, axis=-1)\n",
    "\n",
    "    full_f1, full_loss = cora['full']\n",
    "    student_base_mean = np.mean(full_f1, axis=-1)\n",
    "    student_base_std = np.std(full_f1 * 100, axis=-1)\n",
    "\n",
    "    # fig, ax = plt.subplots(constrained_layout=True)\n",
    "    ax.grid()\n",
    "    # ax.axhline(y = student_base_mean * 100, color = 'black', linestyle = '--')\n",
    "    ax.axhline(y = teacher_baseline[dataset] * 100, color = 'blue', linestyle = '--')\n",
    "    ax.axhspan(student_base_mean * 100 - student_base_std, student_base_mean * 100 + student_base_std, facecolor='red', alpha=0.3)\n",
    "    ax.errorbar(graph_spar, kd_f1_mean * 100, color='purple', yerr=kd_f1_std)\n",
    "    # ax.errorbar(graph_spar, mi_f1_mean * 100, color='purple', yerr=mi_f1_std)\n",
    "    # ax.set_yticks(list(range(70, 85, 2)))\n",
    "    ax.set_ylabel(f'{dataset.capitalize()} (\\%)')\n",
    "    ax.set_ylim(lims[dataset])\n",
    "    ax.legend(['Teacher baseline', 'Student baseline', 'KD-student'])\n",
    "\n",
    "ax = axs[2]\n",
    "ax.set_xticks(graph_spar)\n",
    "ax.set_xlabel('Graph sparsity (\\%)')\n",
    "\n",
    "ax2 = ax.twiny()\n",
    "\n",
    "ax.tick_params(axis='x', rotation=45)\n",
    "ax2.tick_params(axis='x', rotation=45)\n",
    "ax2.plot(graph_spar, kd_f1_mean, color='blue')\n",
    "ax2.set_xticks(graph_spar)\n",
    "ax2.set_xticklabels(\"%.2f\" % spar for spar in model_spar)\n",
    "ax2.set_xlabel('Model sparsity (\\%)')\n",
    "ax.xaxis.set_major_formatter(FormatStrFormatter('%.2f'))\n",
    "# ax.tick_params(axis='y', which='major', labelsize=16)\n",
    "\n",
    "ax2.xaxis.set_ticks_position('bottom') # set the position of the second x-axis to bottom\n",
    "ax2.xaxis.set_label_position('bottom') # set the position of the second x-axis to bottom\n",
    "ax2.spines['bottom'].set_position(('outward', 80))\n",
    "\n",
    "# ax.set_ylim([75, 82])\n",
    "\n",
    "# ax.set_title('Cora', fontdict={'fontsize':22})\n",
    "\n",
    "plt.show()\n",
    "plt.savefig('kd-students')"
   ]
  },
  {
   "cell_type": "code",
   "execution_count": 78,
   "metadata": {},
   "outputs": [
    {
     "name": "stderr",
     "output_type": "stream",
     "text": [
      "/var/folders/1k/wlzqgvv50vd1tkj3jxbkk0m80000gn/T/ipykernel_22466/4183386059.py:61: UserWarning: Matplotlib is currently using pgf, which is a non-GUI backend, so cannot show the figure.\n",
      "  plt.show()\n"
     ]
    }
   ],
   "source": [
    "from matplotlib.ticker import FormatStrFormatter, PercentFormatter\n",
    "\n",
    "matplotlib.rcParams.update({'font.size': 20})\n",
    "fig, axs = plt.subplots(3, constrained_layout=True, sharex='all', figsize=(12, 15))\n",
    "\n",
    "lims = {\n",
    "    'cora': [72, 82],\n",
    "    'citeseer': [62, 72],\n",
    "    'pubmed': [72, 82],\n",
    "}\n",
    "for i, dataset in enumerate(datasets):\n",
    "    ax = axs[i]\n",
    "    cora = stats_arr[dataset]\n",
    "\n",
    "    kd_teacher, kd_f1, kd_loss = cora['kd']\n",
    "    kd_f1_mean = np.mean(kd_f1, axis=-1)\n",
    "    kd_f1_std = np.std(kd_f1 * 100, axis=-1)\n",
    "\n",
    "    mi_teacher, mi_f1, mi_loss = cora['mi']\n",
    "    mi_f1_mean = np.mean(mi_f1, axis=-1)\n",
    "    mi_f1_std = np.std(mi_f1 * 100, axis=-1)\n",
    "\n",
    "    full_f1, full_loss = cora['full']\n",
    "    student_base_mean = np.mean(full_f1, axis=-1)\n",
    "    student_base_std = np.std(full_f1 * 100, axis=-1)\n",
    "\n",
    "    # fig, ax = plt.subplots(constrained_layout=True)\n",
    "    ax.grid()\n",
    "    # ax.axhline(y = student_base_mean * 100, color = 'black', linestyle = '--')\n",
    "    ax.axhline(y = teacher_baseline[dataset] * 100, color = 'blue', linestyle = '--')\n",
    "    ax.axhspan(student_base_mean * 100 - student_base_std, student_base_mean * 100 + student_base_std, facecolor='red', alpha=0.3)\n",
    "    ax.errorbar(graph_spar, mi_f1_mean * 100, color='brown', yerr=mi_f1_std)\n",
    "    # ax.set_yticks(list(range(70, 85, 2)))\n",
    "    ax.set_ylabel(f'{dataset.capitalize()} (\\%)')\n",
    "    ax.set_ylim(lims[dataset])\n",
    "    ax.legend(['Teacher baseline', 'Student baseline', 'LSP-student'])\n",
    "\n",
    "ax = axs[2]\n",
    "ax.set_xticks(graph_spar)\n",
    "ax.set_xlabel('Graph sparsity (\\%)')\n",
    "\n",
    "ax2 = ax.twiny()\n",
    "\n",
    "ax.tick_params(axis='x', rotation=45)\n",
    "ax2.tick_params(axis='x', rotation=45)\n",
    "ax2.plot(graph_spar, kd_f1_mean, color='blue')\n",
    "ax2.set_xticks(graph_spar)\n",
    "ax2.set_xticklabels(\"%.2f\" % spar for spar in model_spar)\n",
    "ax2.set_xlabel('Model sparsity (\\%)')\n",
    "ax.xaxis.set_major_formatter(FormatStrFormatter('%.2f'))\n",
    "# ax.tick_params(axis='y', which='major', labelsize=16)\n",
    "\n",
    "ax2.xaxis.set_ticks_position('bottom') # set the position of the second x-axis to bottom\n",
    "ax2.xaxis.set_label_position('bottom') # set the position of the second x-axis to bottom\n",
    "ax2.spines['bottom'].set_position(('outward', 80))\n",
    "\n",
    "# ax.set_ylim([75, 82])\n",
    "\n",
    "# ax.set_title('Cora', fontdict={'fontsize':22})\n",
    "\n",
    "plt.show()\n",
    "plt.savefig('lsp-students')"
   ]
  },
  {
   "cell_type": "code",
   "execution_count": 62,
   "metadata": {},
   "outputs": [
    {
     "name": "stdout",
     "output_type": "stream",
     "text": [
      "[0.76933336 0.7713334  0.7636666  0.76533335 0.7696667  0.7723333\n",
      " 0.7716667  0.77       0.77       0.76500005 0.766      0.761\n",
      " 0.76500005 0.75799996 0.75699997 0.7586667  0.76566666 0.76399994\n",
      " 0.75600004 0.7636667  0.7683334 ]\n",
      "[0.76933336 0.7713334  0.7636666  0.76533335 0.7696667  0.7723333\n",
      " 0.7716667  0.77       0.77       0.76500005 0.766      0.761\n",
      " 0.76500005 0.75799996 0.75699997 0.7586667  0.76566666 0.76399994\n",
      " 0.75600004 0.7636667  0.7683334 ]\n"
     ]
    }
   ],
   "source": [
    "print(mi_f1_mean)\n",
    "print(kd_f1_mean)"
   ]
  },
  {
   "cell_type": "code",
   "execution_count": 111,
   "metadata": {},
   "outputs": [],
   "source": [
    "kd_teacher, kd_f1, kd_loss = stats_arr['pubmed']['mi']"
   ]
  },
  {
   "cell_type": "code",
   "execution_count": 112,
   "metadata": {},
   "outputs": [
    {
     "name": "stdout",
     "output_type": "stream",
     "text": [
      "$74.60_{\\pm0.748}$\n",
      "$74.93_{\\pm0.834}$\n",
      "$74.37_{\\pm0.419}$\n",
      "$74.57_{\\pm0.450}$\n"
     ]
    }
   ],
   "source": [
    "for it in [0, 7, 8, 19]:\n",
    "    print('${:.2f}_{{\\\\pm{:.3f}}}$'.format(np.mean(kd_f1[it] * 100), np.std(kd_f1[it] * 100)))\n"
   ]
  },
  {
   "cell_type": "code",
   "execution_count": 121,
   "metadata": {},
   "outputs": [
    {
     "name": "stdout",
     "output_type": "stream",
     "text": [
      "$75.07_{\\pm 0.660}$\n"
     ]
    }
   ],
   "source": [
    "f1, loss = stats_arr['pubmed']['full']\n",
    "print('${:.2f}_{{\\pm {:.3f}}}$'.format(np.mean(f1 * 100), np.std(f1 * 100)))"
   ]
  },
  {
   "cell_type": "code",
   "execution_count": 116,
   "metadata": {},
   "outputs": [
    {
     "data": {
      "text/plain": [
       "array([0.758, 0.772, 0.765], dtype=float32)"
      ]
     },
     "execution_count": 116,
     "metadata": {},
     "output_type": "execute_result"
    }
   ],
   "source": []
  }
 ],
 "metadata": {
  "kernelspec": {
   "display_name": "Python 3.10.9 64-bit",
   "language": "python",
   "name": "python3"
  },
  "language_info": {
   "codemirror_mode": {
    "name": "ipython",
    "version": 3
   },
   "file_extension": ".py",
   "mimetype": "text/x-python",
   "name": "python",
   "nbconvert_exporter": "python",
   "pygments_lexer": "ipython3",
   "version": "3.10.9"
  },
  "orig_nbformat": 4,
  "vscode": {
   "interpreter": {
    "hash": "b0fa6594d8f4cbf19f97940f81e996739fb7646882a419484c72d19e05852a7e"
   }
  }
 },
 "nbformat": 4,
 "nbformat_minor": 2
}
